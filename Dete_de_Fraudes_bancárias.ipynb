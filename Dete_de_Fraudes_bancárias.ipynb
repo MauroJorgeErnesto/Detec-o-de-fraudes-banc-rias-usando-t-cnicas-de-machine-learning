{
 "cells": [
  {
   "cell_type": "code",
   "execution_count": 1,
   "id": "3c0471a2",
   "metadata": {},
   "outputs": [],
   "source": [
    "import pandas as pd\n",
    "import matplotlib.pyplot as plt\n",
    "import plotly.express as px\n",
    "import seaborn as sns\n",
    "from sklearn.preprocessing import StandardScaler, LabelEncoder, MinMaxScaler\n",
    "from sklearn.model_selection import train_test_split, GridSearchCV\n",
    "from sklearn.metrics import classification_report, make_scorer, accuracy_score, precision_score, recall_score, f1_score"
   ]
  },
  {
   "cell_type": "code",
   "execution_count": 2,
   "id": "f7278c13",
   "metadata": {},
   "outputs": [
    {
     "data": {
      "application/vnd.microsoft.datawrangler.viewer.v0+json": {
       "columns": [
        {
         "name": "index",
         "rawType": "int64",
         "type": "integer"
        },
        {
         "name": "Customer_ID",
         "rawType": "object",
         "type": "string"
        },
        {
         "name": "Customer_Name",
         "rawType": "object",
         "type": "string"
        },
        {
         "name": "Gender",
         "rawType": "object",
         "type": "string"
        },
        {
         "name": "Age",
         "rawType": "int64",
         "type": "integer"
        },
        {
         "name": "State",
         "rawType": "object",
         "type": "string"
        },
        {
         "name": "City",
         "rawType": "object",
         "type": "string"
        },
        {
         "name": "Bank_Branch",
         "rawType": "object",
         "type": "string"
        },
        {
         "name": "Account_Type",
         "rawType": "object",
         "type": "string"
        },
        {
         "name": "Transaction_ID",
         "rawType": "object",
         "type": "string"
        },
        {
         "name": "Transaction_Date",
         "rawType": "object",
         "type": "string"
        },
        {
         "name": "Transaction_Time",
         "rawType": "object",
         "type": "string"
        },
        {
         "name": "Transaction_Amount",
         "rawType": "float64",
         "type": "float"
        },
        {
         "name": "Merchant_ID",
         "rawType": "object",
         "type": "string"
        },
        {
         "name": "Transaction_Type",
         "rawType": "object",
         "type": "string"
        },
        {
         "name": "Merchant_Category",
         "rawType": "object",
         "type": "string"
        },
        {
         "name": "Account_Balance",
         "rawType": "float64",
         "type": "float"
        },
        {
         "name": "Transaction_Device",
         "rawType": "object",
         "type": "string"
        },
        {
         "name": "Transaction_Location",
         "rawType": "object",
         "type": "string"
        },
        {
         "name": "Device_Type",
         "rawType": "object",
         "type": "string"
        },
        {
         "name": "Is_Fraud",
         "rawType": "int64",
         "type": "integer"
        },
        {
         "name": "Transaction_Currency",
         "rawType": "object",
         "type": "string"
        },
        {
         "name": "Customer_Contact",
         "rawType": "object",
         "type": "string"
        },
        {
         "name": "Transaction_Description",
         "rawType": "object",
         "type": "string"
        },
        {
         "name": "Customer_Email",
         "rawType": "object",
         "type": "string"
        }
       ],
       "conversionMethod": "pd.DataFrame",
       "ref": "5fb05bbf-af0f-4cd4-9785-19ca314d90d8",
       "rows": [
        [
         "0",
         "d5f6ec07-d69e-4f47-b9b4-7c58ff17c19e",
         "Osha Tella",
         "Male",
         "60",
         "Kerala",
         "Thiruvananthapuram",
         "Thiruvananthapuram Branch",
         "Savings",
         "4fa3208f-9e23-42dc-b330-844829d0c12c",
         "23-01-2025",
         "16:04:07",
         "32415.45",
         "214e03c5-5c34-40d1-a66c-f440aa2bbd02",
         "Transfer",
         "Restaurant",
         "74557.27",
         "Voice Assistant",
         "Thiruvananthapuram, Kerala",
         "POS",
         "0",
         "INR",
         "+9198579XXXXXX",
         "Bitcoin transaction",
         "oshaXXXXX@XXXXX.com"
        ],
        [
         "1",
         "7c14ad51-781a-4db9-b7bd-67439c175262",
         "Hredhaan Khosla",
         "Female",
         "51",
         "Maharashtra",
         "Nashik",
         "Nashik Branch",
         "Business",
         "c9de0c06-2c4c-40a9-97ed-3c7b8f97c79c",
         "11-01-2025",
         "17:14:53",
         "43622.6",
         "f9e3f11f-28d3-4199-b0ca-f225a155ede6",
         "Bill Payment",
         "Restaurant",
         "74622.66",
         "POS Mobile Device",
         "Nashik, Maharashtra",
         "Desktop",
         "0",
         "INR",
         "+9191074XXXXXX",
         "Grocery delivery",
         "hredhaanXXXX@XXXXXX.com"
        ],
        [
         "2",
         "3a73a0e5-d4da-45aa-85f3-528413900a35",
         "Ekani Nazareth",
         "Male",
         "20",
         "Bihar",
         "Bhagalpur",
         "Bhagalpur Branch",
         "Savings",
         "e41c55f9-c016-4ff3-872b-cae72467c75c",
         "25-01-2025",
         "03:09:52",
         "63062.56",
         "97977d83-5486-4510-af1c-8dada3e1cfa0",
         "Bill Payment",
         "Groceries",
         "66817.99",
         "ATM",
         "Bhagalpur, Bihar",
         "Desktop",
         "0",
         "INR",
         "+9197745XXXXXX",
         "Mutual fund investment",
         "ekaniXXX@XXXXXX.com"
        ],
        [
         "3",
         "7902f4ef-9050-4a79-857d-9c2ea3181940",
         "Yamini Ramachandran",
         "Female",
         "57",
         "Tamil Nadu",
         "Chennai",
         "Chennai Branch",
         "Business",
         "7f7ee11b-ff2c-45a3-802a-49bc47c02ecb",
         "19-01-2025",
         "12:27:02",
         "14000.72",
         "f45cd6b3-5092-44d0-8afb-490894605184",
         "Debit",
         "Entertainment",
         "58177.08",
         "POS Mobile App",
         "Chennai, Tamil Nadu",
         "Mobile",
         "0",
         "INR",
         "+9195889XXXXXX",
         "Food delivery",
         "yaminiXXXXX@XXXXXXX.com"
        ],
        [
         "4",
         "3a4bba70-d9a9-4c5f-8b92-1735fd8c19e9",
         "Kritika Rege",
         "Female",
         "43",
         "Punjab",
         "Amritsar",
         "Amritsar Branch",
         "Savings",
         "f8e6ac6f-81a1-4985-bf12-f60967d852ef",
         "30-01-2025",
         "18:30:46",
         "18335.16",
         "70dd77dd-3b00-4b2c-8ebc-cfb8af5f6741",
         "Transfer",
         "Entertainment",
         "16108.56",
         "Virtual Card",
         "Amritsar, Punjab",
         "Mobile",
         "0",
         "INR",
         "+9195316XXXXXX",
         "Debt repayment",
         "kritikaXXXX@XXXXXX.com"
        ]
       ],
       "shape": {
        "columns": 24,
        "rows": 5
       }
      },
      "text/html": [
       "<div>\n",
       "<style scoped>\n",
       "    .dataframe tbody tr th:only-of-type {\n",
       "        vertical-align: middle;\n",
       "    }\n",
       "\n",
       "    .dataframe tbody tr th {\n",
       "        vertical-align: top;\n",
       "    }\n",
       "\n",
       "    .dataframe thead th {\n",
       "        text-align: right;\n",
       "    }\n",
       "</style>\n",
       "<table border=\"1\" class=\"dataframe\">\n",
       "  <thead>\n",
       "    <tr style=\"text-align: right;\">\n",
       "      <th></th>\n",
       "      <th>Customer_ID</th>\n",
       "      <th>Customer_Name</th>\n",
       "      <th>Gender</th>\n",
       "      <th>Age</th>\n",
       "      <th>State</th>\n",
       "      <th>City</th>\n",
       "      <th>Bank_Branch</th>\n",
       "      <th>Account_Type</th>\n",
       "      <th>Transaction_ID</th>\n",
       "      <th>Transaction_Date</th>\n",
       "      <th>...</th>\n",
       "      <th>Merchant_Category</th>\n",
       "      <th>Account_Balance</th>\n",
       "      <th>Transaction_Device</th>\n",
       "      <th>Transaction_Location</th>\n",
       "      <th>Device_Type</th>\n",
       "      <th>Is_Fraud</th>\n",
       "      <th>Transaction_Currency</th>\n",
       "      <th>Customer_Contact</th>\n",
       "      <th>Transaction_Description</th>\n",
       "      <th>Customer_Email</th>\n",
       "    </tr>\n",
       "  </thead>\n",
       "  <tbody>\n",
       "    <tr>\n",
       "      <th>0</th>\n",
       "      <td>d5f6ec07-d69e-4f47-b9b4-7c58ff17c19e</td>\n",
       "      <td>Osha Tella</td>\n",
       "      <td>Male</td>\n",
       "      <td>60</td>\n",
       "      <td>Kerala</td>\n",
       "      <td>Thiruvananthapuram</td>\n",
       "      <td>Thiruvananthapuram Branch</td>\n",
       "      <td>Savings</td>\n",
       "      <td>4fa3208f-9e23-42dc-b330-844829d0c12c</td>\n",
       "      <td>23-01-2025</td>\n",
       "      <td>...</td>\n",
       "      <td>Restaurant</td>\n",
       "      <td>74557.27</td>\n",
       "      <td>Voice Assistant</td>\n",
       "      <td>Thiruvananthapuram, Kerala</td>\n",
       "      <td>POS</td>\n",
       "      <td>0</td>\n",
       "      <td>INR</td>\n",
       "      <td>+9198579XXXXXX</td>\n",
       "      <td>Bitcoin transaction</td>\n",
       "      <td>oshaXXXXX@XXXXX.com</td>\n",
       "    </tr>\n",
       "    <tr>\n",
       "      <th>1</th>\n",
       "      <td>7c14ad51-781a-4db9-b7bd-67439c175262</td>\n",
       "      <td>Hredhaan Khosla</td>\n",
       "      <td>Female</td>\n",
       "      <td>51</td>\n",
       "      <td>Maharashtra</td>\n",
       "      <td>Nashik</td>\n",
       "      <td>Nashik Branch</td>\n",
       "      <td>Business</td>\n",
       "      <td>c9de0c06-2c4c-40a9-97ed-3c7b8f97c79c</td>\n",
       "      <td>11-01-2025</td>\n",
       "      <td>...</td>\n",
       "      <td>Restaurant</td>\n",
       "      <td>74622.66</td>\n",
       "      <td>POS Mobile Device</td>\n",
       "      <td>Nashik, Maharashtra</td>\n",
       "      <td>Desktop</td>\n",
       "      <td>0</td>\n",
       "      <td>INR</td>\n",
       "      <td>+9191074XXXXXX</td>\n",
       "      <td>Grocery delivery</td>\n",
       "      <td>hredhaanXXXX@XXXXXX.com</td>\n",
       "    </tr>\n",
       "    <tr>\n",
       "      <th>2</th>\n",
       "      <td>3a73a0e5-d4da-45aa-85f3-528413900a35</td>\n",
       "      <td>Ekani Nazareth</td>\n",
       "      <td>Male</td>\n",
       "      <td>20</td>\n",
       "      <td>Bihar</td>\n",
       "      <td>Bhagalpur</td>\n",
       "      <td>Bhagalpur Branch</td>\n",
       "      <td>Savings</td>\n",
       "      <td>e41c55f9-c016-4ff3-872b-cae72467c75c</td>\n",
       "      <td>25-01-2025</td>\n",
       "      <td>...</td>\n",
       "      <td>Groceries</td>\n",
       "      <td>66817.99</td>\n",
       "      <td>ATM</td>\n",
       "      <td>Bhagalpur, Bihar</td>\n",
       "      <td>Desktop</td>\n",
       "      <td>0</td>\n",
       "      <td>INR</td>\n",
       "      <td>+9197745XXXXXX</td>\n",
       "      <td>Mutual fund investment</td>\n",
       "      <td>ekaniXXX@XXXXXX.com</td>\n",
       "    </tr>\n",
       "    <tr>\n",
       "      <th>3</th>\n",
       "      <td>7902f4ef-9050-4a79-857d-9c2ea3181940</td>\n",
       "      <td>Yamini Ramachandran</td>\n",
       "      <td>Female</td>\n",
       "      <td>57</td>\n",
       "      <td>Tamil Nadu</td>\n",
       "      <td>Chennai</td>\n",
       "      <td>Chennai Branch</td>\n",
       "      <td>Business</td>\n",
       "      <td>7f7ee11b-ff2c-45a3-802a-49bc47c02ecb</td>\n",
       "      <td>19-01-2025</td>\n",
       "      <td>...</td>\n",
       "      <td>Entertainment</td>\n",
       "      <td>58177.08</td>\n",
       "      <td>POS Mobile App</td>\n",
       "      <td>Chennai, Tamil Nadu</td>\n",
       "      <td>Mobile</td>\n",
       "      <td>0</td>\n",
       "      <td>INR</td>\n",
       "      <td>+9195889XXXXXX</td>\n",
       "      <td>Food delivery</td>\n",
       "      <td>yaminiXXXXX@XXXXXXX.com</td>\n",
       "    </tr>\n",
       "    <tr>\n",
       "      <th>4</th>\n",
       "      <td>3a4bba70-d9a9-4c5f-8b92-1735fd8c19e9</td>\n",
       "      <td>Kritika Rege</td>\n",
       "      <td>Female</td>\n",
       "      <td>43</td>\n",
       "      <td>Punjab</td>\n",
       "      <td>Amritsar</td>\n",
       "      <td>Amritsar Branch</td>\n",
       "      <td>Savings</td>\n",
       "      <td>f8e6ac6f-81a1-4985-bf12-f60967d852ef</td>\n",
       "      <td>30-01-2025</td>\n",
       "      <td>...</td>\n",
       "      <td>Entertainment</td>\n",
       "      <td>16108.56</td>\n",
       "      <td>Virtual Card</td>\n",
       "      <td>Amritsar, Punjab</td>\n",
       "      <td>Mobile</td>\n",
       "      <td>0</td>\n",
       "      <td>INR</td>\n",
       "      <td>+9195316XXXXXX</td>\n",
       "      <td>Debt repayment</td>\n",
       "      <td>kritikaXXXX@XXXXXX.com</td>\n",
       "    </tr>\n",
       "  </tbody>\n",
       "</table>\n",
       "<p>5 rows × 24 columns</p>\n",
       "</div>"
      ],
      "text/plain": [
       "                            Customer_ID        Customer_Name  Gender  Age  \\\n",
       "0  d5f6ec07-d69e-4f47-b9b4-7c58ff17c19e           Osha Tella    Male   60   \n",
       "1  7c14ad51-781a-4db9-b7bd-67439c175262      Hredhaan Khosla  Female   51   \n",
       "2  3a73a0e5-d4da-45aa-85f3-528413900a35       Ekani Nazareth    Male   20   \n",
       "3  7902f4ef-9050-4a79-857d-9c2ea3181940  Yamini Ramachandran  Female   57   \n",
       "4  3a4bba70-d9a9-4c5f-8b92-1735fd8c19e9         Kritika Rege  Female   43   \n",
       "\n",
       "         State                City                Bank_Branch Account_Type  \\\n",
       "0       Kerala  Thiruvananthapuram  Thiruvananthapuram Branch      Savings   \n",
       "1  Maharashtra              Nashik              Nashik Branch     Business   \n",
       "2        Bihar           Bhagalpur           Bhagalpur Branch      Savings   \n",
       "3   Tamil Nadu             Chennai             Chennai Branch     Business   \n",
       "4       Punjab            Amritsar            Amritsar Branch      Savings   \n",
       "\n",
       "                         Transaction_ID Transaction_Date  ...  \\\n",
       "0  4fa3208f-9e23-42dc-b330-844829d0c12c       23-01-2025  ...   \n",
       "1  c9de0c06-2c4c-40a9-97ed-3c7b8f97c79c       11-01-2025  ...   \n",
       "2  e41c55f9-c016-4ff3-872b-cae72467c75c       25-01-2025  ...   \n",
       "3  7f7ee11b-ff2c-45a3-802a-49bc47c02ecb       19-01-2025  ...   \n",
       "4  f8e6ac6f-81a1-4985-bf12-f60967d852ef       30-01-2025  ...   \n",
       "\n",
       "  Merchant_Category  Account_Balance Transaction_Device  \\\n",
       "0        Restaurant         74557.27    Voice Assistant   \n",
       "1        Restaurant         74622.66  POS Mobile Device   \n",
       "2         Groceries         66817.99                ATM   \n",
       "3     Entertainment         58177.08     POS Mobile App   \n",
       "4     Entertainment         16108.56       Virtual Card   \n",
       "\n",
       "         Transaction_Location Device_Type  Is_Fraud Transaction_Currency  \\\n",
       "0  Thiruvananthapuram, Kerala         POS         0                  INR   \n",
       "1         Nashik, Maharashtra     Desktop         0                  INR   \n",
       "2            Bhagalpur, Bihar     Desktop         0                  INR   \n",
       "3         Chennai, Tamil Nadu      Mobile         0                  INR   \n",
       "4            Amritsar, Punjab      Mobile         0                  INR   \n",
       "\n",
       "  Customer_Contact Transaction_Description           Customer_Email  \n",
       "0   +9198579XXXXXX     Bitcoin transaction      oshaXXXXX@XXXXX.com  \n",
       "1   +9191074XXXXXX        Grocery delivery  hredhaanXXXX@XXXXXX.com  \n",
       "2   +9197745XXXXXX  Mutual fund investment      ekaniXXX@XXXXXX.com  \n",
       "3   +9195889XXXXXX           Food delivery  yaminiXXXXX@XXXXXXX.com  \n",
       "4   +9195316XXXXXX          Debt repayment   kritikaXXXX@XXXXXX.com  \n",
       "\n",
       "[5 rows x 24 columns]"
      ]
     },
     "execution_count": 2,
     "metadata": {},
     "output_type": "execute_result"
    }
   ],
   "source": [
    "df = pd.read_csv('Bank_Transaction_Fraud_Detection.csv')\n",
    "df.head()"
   ]
  },
  {
   "cell_type": "code",
   "execution_count": 3,
   "id": "6f7c97ad",
   "metadata": {},
   "outputs": [
    {
     "name": "stdout",
     "output_type": "stream",
     "text": [
      "<class 'pandas.core.frame.DataFrame'>\n",
      "RangeIndex: 200000 entries, 0 to 199999\n",
      "Data columns (total 24 columns):\n",
      " #   Column                   Non-Null Count   Dtype  \n",
      "---  ------                   --------------   -----  \n",
      " 0   Customer_ID              200000 non-null  object \n",
      " 1   Customer_Name            200000 non-null  object \n",
      " 2   Gender                   200000 non-null  object \n",
      " 3   Age                      200000 non-null  int64  \n",
      " 4   State                    200000 non-null  object \n",
      " 5   City                     200000 non-null  object \n",
      " 6   Bank_Branch              200000 non-null  object \n",
      " 7   Account_Type             200000 non-null  object \n",
      " 8   Transaction_ID           200000 non-null  object \n",
      " 9   Transaction_Date         200000 non-null  object \n",
      " 10  Transaction_Time         200000 non-null  object \n",
      " 11  Transaction_Amount       200000 non-null  float64\n",
      " 12  Merchant_ID              200000 non-null  object \n",
      " 13  Transaction_Type         200000 non-null  object \n",
      " 14  Merchant_Category        200000 non-null  object \n",
      " 15  Account_Balance          200000 non-null  float64\n",
      " 16  Transaction_Device       200000 non-null  object \n",
      " 17  Transaction_Location     200000 non-null  object \n",
      " 18  Device_Type              200000 non-null  object \n",
      " 19  Is_Fraud                 200000 non-null  int64  \n",
      " 20  Transaction_Currency     200000 non-null  object \n",
      " 21  Customer_Contact         200000 non-null  object \n",
      " 22  Transaction_Description  200000 non-null  object \n",
      " 23  Customer_Email           200000 non-null  object \n",
      "dtypes: float64(2), int64(2), object(20)\n",
      "memory usage: 36.6+ MB\n"
     ]
    }
   ],
   "source": [
    "df.info()"
   ]
  },
  {
   "cell_type": "code",
   "execution_count": 4,
   "id": "979f6917",
   "metadata": {},
   "outputs": [
    {
     "data": {
      "text/plain": [
       "Customer_ID                0\n",
       "Customer_Name              0\n",
       "Gender                     0\n",
       "Age                        0\n",
       "State                      0\n",
       "City                       0\n",
       "Bank_Branch                0\n",
       "Account_Type               0\n",
       "Transaction_ID             0\n",
       "Transaction_Date           0\n",
       "Transaction_Time           0\n",
       "Transaction_Amount         0\n",
       "Merchant_ID                0\n",
       "Transaction_Type           0\n",
       "Merchant_Category          0\n",
       "Account_Balance            0\n",
       "Transaction_Device         0\n",
       "Transaction_Location       0\n",
       "Device_Type                0\n",
       "Is_Fraud                   0\n",
       "Transaction_Currency       0\n",
       "Customer_Contact           0\n",
       "Transaction_Description    0\n",
       "Customer_Email             0\n",
       "dtype: int64"
      ]
     },
     "execution_count": 4,
     "metadata": {},
     "output_type": "execute_result"
    }
   ],
   "source": [
    "df.isnull().sum()"
   ]
  },
  {
   "cell_type": "code",
   "execution_count": 5,
   "id": "133fdf4a",
   "metadata": {},
   "outputs": [
    {
     "data": {
      "application/vnd.microsoft.datawrangler.viewer.v0+json": {
       "columns": [
        {
         "name": "index",
         "rawType": "object",
         "type": "string"
        },
        {
         "name": "Age",
         "rawType": "float64",
         "type": "float"
        },
        {
         "name": "Transaction_Amount",
         "rawType": "float64",
         "type": "float"
        },
        {
         "name": "Account_Balance",
         "rawType": "float64",
         "type": "float"
        },
        {
         "name": "Is_Fraud",
         "rawType": "float64",
         "type": "float"
        }
       ],
       "conversionMethod": "pd.DataFrame",
       "ref": "56880061-e2a8-40ff-a6f3-8e348ed80952",
       "rows": [
        [
         "count",
         "200000.0",
         "200000.0",
         "200000.0",
         "200000.0"
        ],
        [
         "mean",
         "44.01511",
         "49538.0155542",
         "52437.98878355",
         "0.05044"
        ],
        [
         "std",
         "15.28877432696959",
         "28551.87400382295",
         "27399.507128068417",
         "0.21885165267898435"
        ],
        [
         "min",
         "18.0",
         "10.29",
         "5000.82",
         "0.0"
        ],
        [
         "25%",
         "31.0",
         "24851.344999999998",
         "28742.395",
         "0.0"
        ],
        [
         "50%",
         "44.0",
         "49502.44",
         "52372.555",
         "0.0"
        ],
        [
         "75%",
         "57.0",
         "74314.625",
         "76147.67",
         "0.0"
        ],
        [
         "max",
         "70.0",
         "98999.98",
         "99999.95",
         "1.0"
        ]
       ],
       "shape": {
        "columns": 4,
        "rows": 8
       }
      },
      "text/html": [
       "<div>\n",
       "<style scoped>\n",
       "    .dataframe tbody tr th:only-of-type {\n",
       "        vertical-align: middle;\n",
       "    }\n",
       "\n",
       "    .dataframe tbody tr th {\n",
       "        vertical-align: top;\n",
       "    }\n",
       "\n",
       "    .dataframe thead th {\n",
       "        text-align: right;\n",
       "    }\n",
       "</style>\n",
       "<table border=\"1\" class=\"dataframe\">\n",
       "  <thead>\n",
       "    <tr style=\"text-align: right;\">\n",
       "      <th></th>\n",
       "      <th>Age</th>\n",
       "      <th>Transaction_Amount</th>\n",
       "      <th>Account_Balance</th>\n",
       "      <th>Is_Fraud</th>\n",
       "    </tr>\n",
       "  </thead>\n",
       "  <tbody>\n",
       "    <tr>\n",
       "      <th>count</th>\n",
       "      <td>200000.000000</td>\n",
       "      <td>200000.000000</td>\n",
       "      <td>200000.000000</td>\n",
       "      <td>200000.000000</td>\n",
       "    </tr>\n",
       "    <tr>\n",
       "      <th>mean</th>\n",
       "      <td>44.015110</td>\n",
       "      <td>49538.015554</td>\n",
       "      <td>52437.988784</td>\n",
       "      <td>0.050440</td>\n",
       "    </tr>\n",
       "    <tr>\n",
       "      <th>std</th>\n",
       "      <td>15.288774</td>\n",
       "      <td>28551.874004</td>\n",
       "      <td>27399.507128</td>\n",
       "      <td>0.218852</td>\n",
       "    </tr>\n",
       "    <tr>\n",
       "      <th>min</th>\n",
       "      <td>18.000000</td>\n",
       "      <td>10.290000</td>\n",
       "      <td>5000.820000</td>\n",
       "      <td>0.000000</td>\n",
       "    </tr>\n",
       "    <tr>\n",
       "      <th>25%</th>\n",
       "      <td>31.000000</td>\n",
       "      <td>24851.345000</td>\n",
       "      <td>28742.395000</td>\n",
       "      <td>0.000000</td>\n",
       "    </tr>\n",
       "    <tr>\n",
       "      <th>50%</th>\n",
       "      <td>44.000000</td>\n",
       "      <td>49502.440000</td>\n",
       "      <td>52372.555000</td>\n",
       "      <td>0.000000</td>\n",
       "    </tr>\n",
       "    <tr>\n",
       "      <th>75%</th>\n",
       "      <td>57.000000</td>\n",
       "      <td>74314.625000</td>\n",
       "      <td>76147.670000</td>\n",
       "      <td>0.000000</td>\n",
       "    </tr>\n",
       "    <tr>\n",
       "      <th>max</th>\n",
       "      <td>70.000000</td>\n",
       "      <td>98999.980000</td>\n",
       "      <td>99999.950000</td>\n",
       "      <td>1.000000</td>\n",
       "    </tr>\n",
       "  </tbody>\n",
       "</table>\n",
       "</div>"
      ],
      "text/plain": [
       "                 Age  Transaction_Amount  Account_Balance       Is_Fraud\n",
       "count  200000.000000       200000.000000    200000.000000  200000.000000\n",
       "mean       44.015110        49538.015554     52437.988784       0.050440\n",
       "std        15.288774        28551.874004     27399.507128       0.218852\n",
       "min        18.000000           10.290000      5000.820000       0.000000\n",
       "25%        31.000000        24851.345000     28742.395000       0.000000\n",
       "50%        44.000000        49502.440000     52372.555000       0.000000\n",
       "75%        57.000000        74314.625000     76147.670000       0.000000\n",
       "max        70.000000        98999.980000     99999.950000       1.000000"
      ]
     },
     "execution_count": 5,
     "metadata": {},
     "output_type": "execute_result"
    }
   ],
   "source": [
    "df.describe()"
   ]
  },
  {
   "cell_type": "code",
   "execution_count": 6,
   "id": "4f72b950",
   "metadata": {},
   "outputs": [
    {
     "name": "stderr",
     "output_type": "stream",
     "text": [
      "C:\\Users\\Mauro Jorge Ernesto\\AppData\\Local\\Temp\\ipykernel_14016\\1878643831.py:3: FutureWarning: \n",
      "\n",
      "Passing `palette` without assigning `hue` is deprecated and will be removed in v0.14.0. Assign the `x` variable to `hue` and set `legend=False` for the same effect.\n",
      "\n",
      "  sns.barplot(x=fraud_count.index, y=fraud_count.values, palette=['green', 'red'])\n"
     ]
    },
    {
     "data": {
      "image/png": "[encoded data removed]",
      "text/plain": [
       "<Figure size 600x400 with 1 Axes>"
      ]
     },
     "metadata": {},
     "output_type": "display_data"
    }
   ],
   "source": [
    "fraud_count = df['Is_Fraud'].value_counts()\n",
    "plt.figure(figsize=(6, 4))\n",
    "sns.barplot(x=fraud_count.index, y=fraud_count.values, palette=['green', 'red'])\n",
    "plt.title(\"Quantidade de transações não fraudulentas VS fraudulentas\")\n",
    "plt.xticks(ticks=[0, 1], labels=['Não fraudulentas', 'Fraudulentas'])\n",
    "plt.ylabel(\"Quantidade\")\n",
    "plt.show()"
   ]
  },
  {
   "cell_type": "code",
   "execution_count": 7,
   "id": "2b38b428",
   "metadata": {},
   "outputs": [
    {
     "data": {
      "image/png": "[encoded data removed]",
      "text/plain": [
       "<Figure size 700x700 with 1 Axes>"
      ]
     },
     "metadata": {},
     "output_type": "display_data"
    }
   ],
   "source": [
    "# Contagem dos tipos de transação\n",
    "transaction_counts = df['Transaction_Type'].value_counts()\n",
    "\n",
    "# Gráfico de barras com rótulos\n",
    "plt.figure(figsize=(7,7))\n",
    "bars = plt.bar(transaction_counts.index, transaction_counts.values, color='teal')\n",
    "\n",
    "# Adicionando os rótulos acima das barras\n",
    "for bar in bars:\n",
    "    height = bar.get_height()\n",
    "    plt.text(bar.get_x() + bar.get_width()/2, height + 0.5, str(height),\n",
    "             ha='center', va='bottom', fontsize=10)\n",
    "\n",
    "plt.title(\"Frequência por Tipo de Transação\")\n",
    "plt.xlabel(\"Tipo de Transação\")\n",
    "plt.ylabel(\"Contagem\")\n",
    "plt.xticks(rotation=45)\n",
    "plt.tight_layout()\n",
    "plt.show()"
   ]
  },
  {
   "cell_type": "code",
   "execution_count": 8,
   "id": "ee196bfb",
   "metadata": {},
   "outputs": [
    {
     "data": {
      "image/png": "[encoded data removed]",
      "text/plain": [
       "<Figure size 600x600 with 2 Axes>"
      ]
     },
     "metadata": {},
     "output_type": "display_data"
    }
   ],
   "source": [
    "#Verificar a correlaçõa entre as variaveis\n",
    "corr = df.select_dtypes('number').corr()\n",
    "\n",
    "fig, ax = plt.subplots(figsize=(6,6))\n",
    "sns.heatmap(corr.abs(), cmap='Blues', annot=True)\n",
    "plt.show()"
   ]
  },
  {
   "cell_type": "code",
   "execution_count": 9,
   "id": "c6ef77ca",
   "metadata": {},
   "outputs": [
    {
     "data": {
      "text/plain": [
       "Customer_ID                 object\n",
       "Customer_Name               object\n",
       "Gender                      object\n",
       "Age                          int64\n",
       "State                       object\n",
       "City                        object\n",
       "Bank_Branch                 object\n",
       "Account_Type                object\n",
       "Transaction_ID              object\n",
       "Transaction_Date            object\n",
       "Transaction_Time            object\n",
       "Transaction_Amount         float64\n",
       "Merchant_ID                 object\n",
       "Transaction_Type            object\n",
       "Merchant_Category           object\n",
       "Account_Balance            float64\n",
       "Transaction_Device          object\n",
       "Transaction_Location        object\n",
       "Device_Type                 object\n",
       "Is_Fraud                     int64\n",
       "Transaction_Currency        object\n",
       "Customer_Contact            object\n",
       "Transaction_Description     object\n",
       "Customer_Email              object\n",
       "dtype: object"
      ]
     },
     "execution_count": 9,
     "metadata": {},
     "output_type": "execute_result"
    }
   ],
   "source": [
    "df.dtypes"
   ]
  },
  {
   "cell_type": "markdown",
   "id": "4a642e09",
   "metadata": {},
   "source": [
    "## Separação as Features e Target"
   ]
  },
  {
   "cell_type": "code",
   "execution_count": 10,
   "id": "b9de9014",
   "metadata": {},
   "outputs": [
    {
     "name": "stdout",
     "output_type": "stream",
     "text": [
      "Colunas numerícas: ['Age', 'Transaction_Amount', 'Account_Balance', 'Is_Fraud']\n"
     ]
    }
   ],
   "source": [
    "colunas_nume = df.select_dtypes(include=['int64', 'float64']).columns.tolist()\n",
    "\n",
    "print('Colunas numerícas:', colunas_nume)"
   ]
  },
  {
   "cell_type": "code",
   "execution_count": 11,
   "id": "e93c8186",
   "metadata": {},
   "outputs": [
    {
     "name": "stdout",
     "output_type": "stream",
     "text": [
      "Colunas categoricas: ['Customer_ID', 'Customer_Name', 'Gender', 'State', 'City', 'Bank_Branch', 'Account_Type', 'Transaction_ID', 'Transaction_Date', 'Transaction_Time', 'Merchant_ID', 'Transaction_Type', 'Merchant_Category', 'Transaction_Device', 'Transaction_Location', 'Device_Type', 'Transaction_Currency', 'Customer_Contact', 'Transaction_Description', 'Customer_Email']\n"
     ]
    }
   ],
   "source": [
    "colunas_categ = df.select_dtypes(include=['object']).columns.tolist()\n",
    "\n",
    "print(\"Colunas categoricas:\", colunas_categ)"
   ]
  },
  {
   "cell_type": "code",
   "execution_count": 12,
   "id": "bbab2f21",
   "metadata": {},
   "outputs": [],
   "source": [
    "#Aplicando LabelEncoder nas colunas categoricas \n",
    "le = LabelEncoder()\n",
    "colunas_categoricas = ['Gender', 'Bank_Branch', 'Account_Type', 'Transaction_Type', 'Merchant_Category',\n",
    "'Transaction_Device', 'Transaction_Location', 'Device_Type', 'Transaction_Currency', 'Transaction_Description']\n",
    "for col in colunas_categoricas:\n",
    "    df[col] = le.fit_transform(df[col])"
   ]
  },
  {
   "cell_type": "code",
   "execution_count": 13,
   "id": "8a18812e",
   "metadata": {},
   "outputs": [],
   "source": [
    "# Aplicando Standardize nas colunas numericas\n",
    "scaler = StandardScaler()\n",
    "colunas_numericas = ['Age', 'Transaction_Amount']\n",
    "df[colunas_numericas] = scaler.fit_transform(df[colunas_numericas])"
   ]
  },
  {
   "cell_type": "code",
   "execution_count": 14,
   "id": "eb6e1c07",
   "metadata": {},
   "outputs": [],
   "source": [
    "features = ['Age', 'Transaction_Amount', 'Gender', 'Bank_Branch', 'Account_Type', 'Transaction_Type', 'Merchant_Category',\n",
    "'Transaction_Device', 'Transaction_Location', 'Device_Type', 'Transaction_Currency', 'Transaction_Description']\n",
    "\n",
    "target = 'Is_Fraud'"
   ]
  },
  {
   "cell_type": "code",
   "execution_count": 15,
   "id": "14cffea0",
   "metadata": {},
   "outputs": [],
   "source": [
    "X = df[features]\n",
    "y = df[target]"
   ]
  },
  {
   "cell_type": "code",
   "execution_count": 16,
   "id": "da092c5f",
   "metadata": {},
   "outputs": [],
   "source": [
    "#Separando os dados de teste e treinamento\n",
    "X_test, X_train, y_test, y_train = train_test_split(X, y, random_state=42, test_size=0.3)"
   ]
  },
  {
   "cell_type": "markdown",
   "id": "5c2cda0c",
   "metadata": {},
   "source": [
    "## Balanceando as classes usando o SMOTE (somente no conjunto de treinamento)"
   ]
  },
  {
   "cell_type": "code",
   "execution_count": 17,
   "id": "2d9fdfa1",
   "metadata": {},
   "outputs": [],
   "source": [
    "from imblearn.over_sampling import SMOTE"
   ]
  },
  {
   "cell_type": "code",
   "execution_count": 18,
   "id": "7aed0be9",
   "metadata": {},
   "outputs": [],
   "source": [
    "smote = SMOTE(random_state=42)\n",
    "X_train_balanc, y_train_balanc = smote.fit_resample(X_train, y_train)"
   ]
  },
  {
   "cell_type": "code",
   "execution_count": 19,
   "id": "5c6d8794",
   "metadata": {},
   "outputs": [
    {
     "name": "stderr",
     "output_type": "stream",
     "text": [
      "C:\\Users\\Mauro Jorge Ernesto\\AppData\\Local\\Temp\\ipykernel_14016\\486526468.py:3: FutureWarning: \n",
      "\n",
      "Passing `palette` without assigning `hue` is deprecated and will be removed in v0.14.0. Assign the `x` variable to `hue` and set `legend=False` for the same effect.\n",
      "\n",
      "  sns.barplot(x=fraud_count.index, y=fraud_count_balanc.values, palette=['green', 'red'])\n"
     ]
    },
    {
     "data": {
      "image/png": "[encoded data removed]",
      "text/plain": [
       "<Figure size 600x400 with 1 Axes>"
      ]
     },
     "metadata": {},
     "output_type": "display_data"
    }
   ],
   "source": [
    "fraud_count_balanc = y_train_balanc.value_counts()\n",
    "plt.figure(figsize=(6, 4))\n",
    "sns.barplot(x=fraud_count.index, y=fraud_count_balanc.values, palette=['green', 'red'])\n",
    "plt.title(\"Quantidade de transações não fraudulentas VS fraudulentas\")\n",
    "plt.xticks(ticks=[0, 1], labels=['Não fraudulentas', 'Fraudulentas'])\n",
    "plt.ylabel(\"Quantidade\")\n",
    "plt.show()"
   ]
  },
  {
   "cell_type": "markdown",
   "id": "04a438e5",
   "metadata": {},
   "source": [
    "## Random Forest"
   ]
  },
  {
   "cell_type": "code",
   "execution_count": 20,
   "id": "63ac5b65",
   "metadata": {},
   "outputs": [],
   "source": [
    "from sklearn.ensemble import RandomForestClassifier"
   ]
  },
  {
   "cell_type": "code",
   "execution_count": null,
   "id": "c1aae1e7",
   "metadata": {},
   "outputs": [],
   "source": [
    "model_RF = RandomForestClassifier(class_weight='balanced', n_estimators=150, random_state=42)\n",
    "model_RF.fit(X_train_balanc, y_train_balanc)"
   ]
  },
  {
   "cell_type": "code",
   "execution_count": null,
   "id": "562180c2",
   "metadata": {},
   "outputs": [],
   "source": [
    "y_pred_RF = model_RF.predict(X_test)"
   ]
  },
  {
   "cell_type": "code",
   "execution_count": null,
   "id": "6f41e24c",
   "metadata": {},
   "outputs": [
    {
     "name": "stdout",
     "output_type": "stream",
     "text": [
      "              precision    recall  f1-score   support\n",
      "\n",
      "           0       0.95      0.89      0.92    132983\n",
      "           1       0.05      0.11      0.07      7017\n",
      "\n",
      "    accuracy                           0.85    140000\n",
      "   macro avg       0.50      0.50      0.50    140000\n",
      "weighted avg       0.91      0.85      0.88    140000\n",
      "\n"
     ]
    }
   ],
   "source": [
    "print(classification_report(y_test, y_pred_RF))"
   ]
  },
  {
   "cell_type": "markdown",
   "id": "94e4a49c",
   "metadata": {},
   "source": [
    "## XGBoost"
   ]
  },
  {
   "cell_type": "code",
   "execution_count": null,
   "id": "421529fc",
   "metadata": {},
   "outputs": [],
   "source": [
    "from xgboost import XGBClassifier"
   ]
  },
  {
   "cell_type": "code",
   "execution_count": null,
   "id": "4a1974fa",
   "metadata": {},
   "outputs": [],
   "source": [
    "model_XGB = XGBClassifier(n_estimators=100, random_state=42)\n",
    "model_XGB.fit(X_train_balanc, y_train_balanc)\n",
    "y_pred_XGB = model_XGB.predict(X_test)"
   ]
  },
  {
   "cell_type": "code",
   "execution_count": null,
   "id": "30e058a1",
   "metadata": {},
   "outputs": [
    {
     "name": "stdout",
     "output_type": "stream",
     "text": [
      "              precision    recall  f1-score   support\n",
      "\n",
      "           0       0.95      0.93      0.94    132983\n",
      "           1       0.05      0.07      0.06      7017\n",
      "\n",
      "    accuracy                           0.88    140000\n",
      "   macro avg       0.50      0.50      0.50    140000\n",
      "weighted avg       0.90      0.88      0.89    140000\n",
      "\n"
     ]
    }
   ],
   "source": [
    "print(classification_report(y_test, y_pred_XGB))"
   ]
  },
  {
   "cell_type": "markdown",
   "id": "27bfb312",
   "metadata": {},
   "source": [
    "## Arvore de decisão"
   ]
  },
  {
   "cell_type": "code",
   "execution_count": null,
   "id": "43c68602",
   "metadata": {},
   "outputs": [],
   "source": [
    "from sklearn.tree import DecisionTreeClassifier"
   ]
  },
  {
   "cell_type": "code",
   "execution_count": null,
   "id": "1f696854",
   "metadata": {},
   "outputs": [],
   "source": [
    "model_AD = DecisionTreeClassifier(class_weight='balanced', random_state=42)\n",
    "model_AD.fit(X_train_balanc, y_train_balanc)\n",
    "y_pred_AD = model_AD.predict(X_test)"
   ]
  },
  {
   "cell_type": "code",
   "execution_count": null,
   "id": "ab5610e4",
   "metadata": {},
   "outputs": [
    {
     "name": "stdout",
     "output_type": "stream",
     "text": [
      "              precision    recall  f1-score   support\n",
      "\n",
      "           0       0.95      0.88      0.92    132983\n",
      "           1       0.05      0.13      0.08      7017\n",
      "\n",
      "    accuracy                           0.85    140000\n",
      "   macro avg       0.50      0.50      0.50    140000\n",
      "weighted avg       0.91      0.85      0.87    140000\n",
      "\n"
     ]
    }
   ],
   "source": [
    "print(classification_report(y_test, y_pred_AD))"
   ]
  },
  {
   "cell_type": "markdown",
   "id": "73bf7aa5",
   "metadata": {},
   "source": [
    "## Apresentar o resultados dos modelos no gráfico"
   ]
  },
  {
   "cell_type": "code",
   "execution_count": null,
   "id": "5d41c140",
   "metadata": {},
   "outputs": [
    {
     "data": {
      "application/vnd.plotly.v1+json": {
       "config": {
        "plotlyServerURL": "https://plot.ly"
       },
       "data": [
        {
         "alignmentgroup": "True",
         "hovertemplate": "Models=%{x}<br>Accuracy=%{y}<br>text=%{text}<extra></extra>",
         "legendgroup": "",
         "marker": {
          "color": "green",
          "pattern": {
           "shape": ""
          }
         },
         "name": "",
         "offsetgroup": "",
         "orientation": "v",
         "showlegend": false,
         "text": [
          0.85,
          0.88,
          0.85
         ],
         "textposition": "outside",
         "texttemplate": "%{text:.2f}%",
         "type": "bar",
         "x": [
          "Random Forest",
          "XGBoost",
          "Decision Tree"
         ],
         "xaxis": "x",
         "y": [
          0.85,
          0.88,
          0.85
         ],
         "yaxis": "y"
        }
       ],
       "layout": {
        "barmode": "relative",
        "legend": {
         "tracegroupgap": 0
        },
        "template": {
         "data": {
          "bar": [
           {
            "error_x": {
             "color": "#2a3f5f"
            },
            "error_y": {
             "color": "#2a3f5f"
            },
            "marker": {
             "line": {
              "color": "#E5ECF6",
              "width": 0.5
             },
             "pattern": {
              "fillmode": "overlay",
              "size": 10,
              "solidity": 0.2
             }
            },
            "type": "bar"
           }
          ],
          "barpolar": [
           {
            "marker": {
             "line": {
              "color": "#E5ECF6",
              "width": 0.5
             },
             "pattern": {
              "fillmode": "overlay",
              "size": 10,
              "solidity": 0.2
             }
            },
            "type": "barpolar"
           }
          ],
          "carpet": [
           {
            "aaxis": {
             "endlinecolor": "#2a3f5f",
             "gridcolor": "white",
             "linecolor": "white",
             "minorgridcolor": "white",
             "startlinecolor": "#2a3f5f"
            },
            "baxis": {
             "endlinecolor": "#2a3f5f",
             "gridcolor": "white",
             "linecolor": "white",
             "minorgridcolor": "white",
             "startlinecolor": "#2a3f5f"
            },
            "type": "carpet"
           }
          ],
          "choropleth": [
           {
            "colorbar": {
             "outlinewidth": 0,
             "ticks": ""
            },
            "type": "choropleth"
           }
          ],
          "contour": [
           {
            "colorbar": {
             "outlinewidth": 0,
             "ticks": ""
            },
            "colorscale": [
             [
              0,
              "#0d0887"
             ],
             [
              0.1111111111111111,
              "#46039f"
             ],
             [
              0.2222222222222222,
              "#7201a8"
             ],
             [
              0.3333333333333333,
              "#9c179e"
             ],
             [
              0.4444444444444444,
              "#bd3786"
             ],
             [
              0.5555555555555556,
              "#d8576b"
             ],
             [
              0.6666666666666666,
              "#ed7953"
             ],
             [
              0.7777777777777778,
              "#fb9f3a"
             ],
             [
              0.8888888888888888,
              "#fdca26"
             ],
             [
              1,
              "#f0f921"
             ]
            ],
            "type": "contour"
           }
          ],
          "contourcarpet": [
           {
            "colorbar": {
             "outlinewidth": 0,
             "ticks": ""
            },
            "type": "contourcarpet"
           }
          ],
          "heatmap": [
           {
            "colorbar": {
             "outlinewidth": 0,
             "ticks": ""
            },
            "colorscale": [
             [
              0,
              "#0d0887"
             ],
             [
              0.1111111111111111,
              "#46039f"
             ],
             [
              0.2222222222222222,
              "#7201a8"
             ],
             [
              0.3333333333333333,
              "#9c179e"
             ],
             [
              0.4444444444444444,
              "#bd3786"
             ],
             [
              0.5555555555555556,
              "#d8576b"
             ],
             [
              0.6666666666666666,
              "#ed7953"
             ],
             [
              0.7777777777777778,
              "#fb9f3a"
             ],
             [
              0.8888888888888888,
              "#fdca26"
             ],
             [
              1,
              "#f0f921"
             ]
            ],
            "type": "heatmap"
           }
          ],
          "heatmapgl": [
           {
            "colorbar": {
             "outlinewidth": 0,
             "ticks": ""
            },
            "colorscale": [
             [
              0,
              "#0d0887"
             ],
             [
              0.1111111111111111,
              "#46039f"
             ],
             [
              0.2222222222222222,
              "#7201a8"
             ],
             [
              0.3333333333333333,
              "#9c179e"
             ],
             [
              0.4444444444444444,
              "#bd3786"
             ],
             [
              0.5555555555555556,
              "#d8576b"
             ],
             [
              0.6666666666666666,
              "#ed7953"
             ],
             [
              0.7777777777777778,
              "#fb9f3a"
             ],
             [
              0.8888888888888888,
              "#fdca26"
             ],
             [
              1,
              "#f0f921"
             ]
            ],
            "type": "heatmapgl"
           }
          ],
          "histogram": [
           {
            "marker": {
             "pattern": {
              "fillmode": "overlay",
              "size": 10,
              "solidity": 0.2
             }
            },
            "type": "histogram"
           }
          ],
          "histogram2d": [
           {
            "colorbar": {
             "outlinewidth": 0,
             "ticks": ""
            },
            "colorscale": [
             [
              0,
              "#0d0887"
             ],
             [
              0.1111111111111111,
              "#46039f"
             ],
             [
              0.2222222222222222,
              "#7201a8"
             ],
             [
              0.3333333333333333,
              "#9c179e"
             ],
             [
              0.4444444444444444,
              "#bd3786"
             ],
             [
              0.5555555555555556,
              "#d8576b"
             ],
             [
              0.6666666666666666,
              "#ed7953"
             ],
             [
              0.7777777777777778,
              "#fb9f3a"
             ],
             [
              0.8888888888888888,
              "#fdca26"
             ],
             [
              1,
              "#f0f921"
             ]
            ],
            "type": "histogram2d"
           }
          ],
          "histogram2dcontour": [
           {
            "colorbar": {
             "outlinewidth": 0,
             "ticks": ""
            },
            "colorscale": [
             [
              0,
              "#0d0887"
             ],
             [
              0.1111111111111111,
              "#46039f"
             ],
             [
              0.2222222222222222,
              "#7201a8"
             ],
             [
              0.3333333333333333,
              "#9c179e"
             ],
             [
              0.4444444444444444,
              "#bd3786"
             ],
             [
              0.5555555555555556,
              "#d8576b"
             ],
             [
              0.6666666666666666,
              "#ed7953"
             ],
             [
              0.7777777777777778,
              "#fb9f3a"
             ],
             [
              0.8888888888888888,
              "#fdca26"
             ],
             [
              1,
              "#f0f921"
             ]
            ],
            "type": "histogram2dcontour"
           }
          ],
          "mesh3d": [
           {
            "colorbar": {
             "outlinewidth": 0,
             "ticks": ""
            },
            "type": "mesh3d"
           }
          ],
          "parcoords": [
           {
            "line": {
             "colorbar": {
              "outlinewidth": 0,
              "ticks": ""
             }
            },
            "type": "parcoords"
           }
          ],
          "pie": [
           {
            "automargin": true,
            "type": "pie"
           }
          ],
          "scatter": [
           {
            "fillpattern": {
             "fillmode": "overlay",
             "size": 10,
             "solidity": 0.2
            },
            "type": "scatter"
           }
          ],
          "scatter3d": [
           {
            "line": {
             "colorbar": {
              "outlinewidth": 0,
              "ticks": ""
             }
            },
            "marker": {
             "colorbar": {
              "outlinewidth": 0,
              "ticks": ""
             }
            },
            "type": "scatter3d"
           }
          ],
          "scattercarpet": [
           {
            "marker": {
             "colorbar": {
              "outlinewidth": 0,
              "ticks": ""
             }
            },
            "type": "scattercarpet"
           }
          ],
          "scattergeo": [
           {
            "marker": {
             "colorbar": {
              "outlinewidth": 0,
              "ticks": ""
             }
            },
            "type": "scattergeo"
           }
          ],
          "scattergl": [
           {
            "marker": {
             "colorbar": {
              "outlinewidth": 0,
              "ticks": ""
             }
            },
            "type": "scattergl"
           }
          ],
          "scattermapbox": [
           {
            "marker": {
             "colorbar": {
              "outlinewidth": 0,
              "ticks": ""
             }
            },
            "type": "scattermapbox"
           }
          ],
          "scatterpolar": [
           {
            "marker": {
             "colorbar": {
              "outlinewidth": 0,
              "ticks": ""
             }
            },
            "type": "scatterpolar"
           }
          ],
          "scatterpolargl": [
           {
            "marker": {
             "colorbar": {
              "outlinewidth": 0,
              "ticks": ""
             }
            },
            "type": "scatterpolargl"
           }
          ],
          "scatterternary": [
           {
            "marker": {
             "colorbar": {
              "outlinewidth": 0,
              "ticks": ""
             }
            },
            "type": "scatterternary"
           }
          ],
          "surface": [
           {
            "colorbar": {
             "outlinewidth": 0,
             "ticks": ""
            },
            "colorscale": [
             [
              0,
              "#0d0887"
             ],
             [
              0.1111111111111111,
              "#46039f"
             ],
             [
              0.2222222222222222,
              "#7201a8"
             ],
             [
              0.3333333333333333,
              "#9c179e"
             ],
             [
              0.4444444444444444,
              "#bd3786"
             ],
             [
              0.5555555555555556,
              "#d8576b"
             ],
             [
              0.6666666666666666,
              "#ed7953"
             ],
             [
              0.7777777777777778,
              "#fb9f3a"
             ],
             [
              0.8888888888888888,
              "#fdca26"
             ],
             [
              1,
              "#f0f921"
             ]
            ],
            "type": "surface"
           }
          ],
          "table": [
           {
            "cells": {
             "fill": {
              "color": "#EBF0F8"
             },
             "line": {
              "color": "white"
             }
            },
            "header": {
             "fill": {
              "color": "#C8D4E3"
             },
             "line": {
              "color": "white"
             }
            },
            "type": "table"
           }
          ]
         },
         "layout": {
          "annotationdefaults": {
           "arrowcolor": "#2a3f5f",
           "arrowhead": 0,
           "arrowwidth": 1
          },
          "autotypenumbers": "strict",
          "coloraxis": {
           "colorbar": {
            "outlinewidth": 0,
            "ticks": ""
           }
          },
          "colorscale": {
           "diverging": [
            [
             0,
             "#8e0152"
            ],
            [
             0.1,
             "#c51b7d"
            ],
            [
             0.2,
             "#de77ae"
            ],
            [
             0.3,
             "#f1b6da"
            ],
            [
             0.4,
             "#fde0ef"
            ],
            [
             0.5,
             "#f7f7f7"
            ],
            [
             0.6,
             "#e6f5d0"
            ],
            [
             0.7,
             "#b8e186"
            ],
            [
             0.8,
             "#7fbc41"
            ],
            [
             0.9,
             "#4d9221"
            ],
            [
             1,
             "#276419"
            ]
           ],
           "sequential": [
            [
             0,
             "#0d0887"
            ],
            [
             0.1111111111111111,
             "#46039f"
            ],
            [
             0.2222222222222222,
             "#7201a8"
            ],
            [
             0.3333333333333333,
             "#9c179e"
            ],
            [
             0.4444444444444444,
             "#bd3786"
            ],
            [
             0.5555555555555556,
             "#d8576b"
            ],
            [
             0.6666666666666666,
             "#ed7953"
            ],
            [
             0.7777777777777778,
             "#fb9f3a"
            ],
            [
             0.8888888888888888,
             "#fdca26"
            ],
            [
             1,
             "#f0f921"
            ]
           ],
           "sequentialminus": [
            [
             0,
             "#0d0887"
            ],
            [
             0.1111111111111111,
             "#46039f"
            ],
            [
             0.2222222222222222,
             "#7201a8"
            ],
            [
             0.3333333333333333,
             "#9c179e"
            ],
            [
             0.4444444444444444,
             "#bd3786"
            ],
            [
             0.5555555555555556,
             "#d8576b"
            ],
            [
             0.6666666666666666,
             "#ed7953"
            ],
            [
             0.7777777777777778,
             "#fb9f3a"
            ],
            [
             0.8888888888888888,
             "#fdca26"
            ],
            [
             1,
             "#f0f921"
            ]
           ]
          },
          "colorway": [
           "#636efa",
           "#EF553B",
           "#00cc96",
           "#ab63fa",
           "#FFA15A",
           "#19d3f3",
           "#FF6692",
           "#B6E880",
           "#FF97FF",
           "#FECB52"
          ],
          "font": {
           "color": "#2a3f5f"
          },
          "geo": {
           "bgcolor": "white",
           "lakecolor": "white",
           "landcolor": "#E5ECF6",
           "showlakes": true,
           "showland": true,
           "subunitcolor": "white"
          },
          "hoverlabel": {
           "align": "left"
          },
          "hovermode": "closest",
          "mapbox": {
           "style": "light"
          },
          "paper_bgcolor": "white",
          "plot_bgcolor": "#E5ECF6",
          "polar": {
           "angularaxis": {
            "gridcolor": "white",
            "linecolor": "white",
            "ticks": ""
           },
           "bgcolor": "#E5ECF6",
           "radialaxis": {
            "gridcolor": "white",
            "linecolor": "white",
            "ticks": ""
           }
          },
          "scene": {
           "xaxis": {
            "backgroundcolor": "#E5ECF6",
            "gridcolor": "white",
            "gridwidth": 2,
            "linecolor": "white",
            "showbackground": true,
            "ticks": "",
            "zerolinecolor": "white"
           },
           "yaxis": {
            "backgroundcolor": "#E5ECF6",
            "gridcolor": "white",
            "gridwidth": 2,
            "linecolor": "white",
            "showbackground": true,
            "ticks": "",
            "zerolinecolor": "white"
           },
           "zaxis": {
            "backgroundcolor": "#E5ECF6",
            "gridcolor": "white",
            "gridwidth": 2,
            "linecolor": "white",
            "showbackground": true,
            "ticks": "",
            "zerolinecolor": "white"
           }
          },
          "shapedefaults": {
           "line": {
            "color": "#2a3f5f"
           }
          },
          "ternary": {
           "aaxis": {
            "gridcolor": "white",
            "linecolor": "white",
            "ticks": ""
           },
           "baxis": {
            "gridcolor": "white",
            "linecolor": "white",
            "ticks": ""
           },
           "bgcolor": "#E5ECF6",
           "caxis": {
            "gridcolor": "white",
            "linecolor": "white",
            "ticks": ""
           }
          },
          "title": {
           "x": 0.05
          },
          "xaxis": {
           "automargin": true,
           "gridcolor": "white",
           "linecolor": "white",
           "ticks": "",
           "title": {
            "standoff": 15
           },
           "zerolinecolor": "white",
           "zerolinewidth": 2
          },
          "yaxis": {
           "automargin": true,
           "gridcolor": "white",
           "linecolor": "white",
           "ticks": "",
           "title": {
            "standoff": 15
           },
           "zerolinecolor": "white",
           "zerolinewidth": 2
          }
         }
        },
        "title": {
         "text": "Performance of the models"
        },
        "xaxis": {
         "anchor": "y",
         "domain": [
          0,
          1
         ],
         "title": {
          "text": "Models"
         }
        },
        "yaxis": {
         "anchor": "x",
         "domain": [
          0,
          1
         ],
         "title": {
          "text": "Accuracy"
         }
        }
       }
      }
     },
     "metadata": {},
     "output_type": "display_data"
    }
   ],
   "source": [
    "# Apresentar o resultados dos modelos no gráfico \n",
    "models = ['Random Forest', 'XGBoost', 'Decision Tree']\n",
    "accuracies = [0.85 , 0.88, 0.85]\n",
    "\n",
    "# Criar o gráfico de barras\n",
    "fig = px.bar(x=models, y=accuracies, labels={'x': 'Models', 'y': 'Accuracy'},\n",
    "             title=\"Performance of the models\", text=accuracies)\n",
    "\n",
    "# Personalizar o layout\n",
    "fig.update_traces(texttemplate='%{text:.2f}%', textposition='outside', marker_color='green')\n",
    "\n",
    "# Mostrar o gráfico\n",
    "fig.show()"
   ]
  }
 ],
 "metadata": {
  "kernelspec": {
   "display_name": "base",
   "language": "python",
   "name": "python3"
  },
  "language_info": {
   "codemirror_mode": {
    "name": "ipython",
    "version": 3
   },
   "file_extension": ".py",
   "mimetype": "text/x-python",
   "name": "python",
   "nbconvert_exporter": "python",
   "pygments_lexer": "ipython3",
   "version": "3.12.4"
  }
 },
 "nbformat": 4,
 "nbformat_minor": 5
}
